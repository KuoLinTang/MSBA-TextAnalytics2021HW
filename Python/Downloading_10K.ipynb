{
 "cells": [
  {
   "cell_type": "markdown",
   "id": "authentic-maintenance",
   "metadata": {},
   "source": [
    "# Import packages"
   ]
  },
  {
   "cell_type": "code",
   "execution_count": 1,
   "id": "prostate-bermuda",
   "metadata": {},
   "outputs": [],
   "source": [
    "from sec_edgar_downloader import Downloader\n",
    "import pandas as pd"
   ]
  },
  {
   "cell_type": "markdown",
   "id": "amber-collins",
   "metadata": {},
   "source": [
    "# Import company list"
   ]
  },
  {
   "cell_type": "code",
   "execution_count": 24,
   "id": "accessible-simpson",
   "metadata": {
    "scrolled": true
   },
   "outputs": [
    {
     "data": {
      "text/html": [
       "<div>\n",
       "<style scoped>\n",
       "    .dataframe tbody tr th:only-of-type {\n",
       "        vertical-align: middle;\n",
       "    }\n",
       "\n",
       "    .dataframe tbody tr th {\n",
       "        vertical-align: top;\n",
       "    }\n",
       "\n",
       "    .dataframe thead th {\n",
       "        text-align: right;\n",
       "    }\n",
       "</style>\n",
       "<table border=\"1\" class=\"dataframe\">\n",
       "  <thead>\n",
       "    <tr style=\"text-align: right;\">\n",
       "      <th></th>\n",
       "      <th>Unnamed: 0</th>\n",
       "      <th>Symbol</th>\n",
       "      <th>Security</th>\n",
       "      <th>GICS Sector</th>\n",
       "      <th>GICS Sub Industry</th>\n",
       "      <th>CIK</th>\n",
       "    </tr>\n",
       "  </thead>\n",
       "  <tbody>\n",
       "    <tr>\n",
       "      <th>0</th>\n",
       "      <td>1</td>\n",
       "      <td>ACN</td>\n",
       "      <td>Accenture plc</td>\n",
       "      <td>Information Technology</td>\n",
       "      <td>IT Consulting &amp; Other Services</td>\n",
       "      <td>1467373</td>\n",
       "    </tr>\n",
       "    <tr>\n",
       "      <th>1</th>\n",
       "      <td>2</td>\n",
       "      <td>ADBE</td>\n",
       "      <td>Adobe Systems Inc</td>\n",
       "      <td>Information Technology</td>\n",
       "      <td>Application Software</td>\n",
       "      <td>796343</td>\n",
       "    </tr>\n",
       "    <tr>\n",
       "      <th>2</th>\n",
       "      <td>3</td>\n",
       "      <td>AMD</td>\n",
       "      <td>Advanced Micro Devices Inc</td>\n",
       "      <td>Information Technology</td>\n",
       "      <td>Semiconductors</td>\n",
       "      <td>2488</td>\n",
       "    </tr>\n",
       "    <tr>\n",
       "      <th>3</th>\n",
       "      <td>4</td>\n",
       "      <td>AKAM</td>\n",
       "      <td>Akamai Technologies Inc</td>\n",
       "      <td>Information Technology</td>\n",
       "      <td>Internet Services &amp; Infrastructure</td>\n",
       "      <td>1086222</td>\n",
       "    </tr>\n",
       "    <tr>\n",
       "      <th>4</th>\n",
       "      <td>5</td>\n",
       "      <td>ADS</td>\n",
       "      <td>Alliance Data Systems</td>\n",
       "      <td>Information Technology</td>\n",
       "      <td>Data Processing &amp; Outsourced Services</td>\n",
       "      <td>1101215</td>\n",
       "    </tr>\n",
       "  </tbody>\n",
       "</table>\n",
       "</div>"
      ],
      "text/plain": [
       "   Unnamed: 0 Symbol                    Security             GICS Sector  \\\n",
       "0           1    ACN               Accenture plc  Information Technology   \n",
       "1           2   ADBE           Adobe Systems Inc  Information Technology   \n",
       "2           3    AMD  Advanced Micro Devices Inc  Information Technology   \n",
       "3           4   AKAM     Akamai Technologies Inc  Information Technology   \n",
       "4           5    ADS       Alliance Data Systems  Information Technology   \n",
       "\n",
       "                       GICS Sub Industry      CIK  \n",
       "0         IT Consulting & Other Services  1467373  \n",
       "1                   Application Software   796343  \n",
       "2                         Semiconductors     2488  \n",
       "3     Internet Services & Infrastructure  1086222  \n",
       "4  Data Processing & Outsourced Services  1101215  "
      ]
     },
     "execution_count": 24,
     "metadata": {},
     "output_type": "execute_result"
    }
   ],
   "source": [
    "company_list = pd.read_csv(\"../R code/company_list.csv\")\n",
    "\n",
    "company_list.head()"
   ]
  },
  {
   "cell_type": "code",
   "execution_count": 25,
   "id": "mighty-restaurant",
   "metadata": {},
   "outputs": [],
   "source": [
    "company_cik_list = [str(i).zfill(10) for i in list(company_list[\"CIK\"])]"
   ]
  },
  {
   "cell_type": "code",
   "execution_count": 28,
   "id": "spatial-million",
   "metadata": {},
   "outputs": [
    {
     "data": {
      "text/plain": [
       "'0001467373'"
      ]
     },
     "execution_count": 28,
     "metadata": {},
     "output_type": "execute_result"
    }
   ],
   "source": [
    "company_cik_list[0]"
   ]
  },
  {
   "cell_type": "markdown",
   "id": "written-diploma",
   "metadata": {},
   "source": [
    "# Download 10-K"
   ]
  },
  {
   "cell_type": "code",
   "execution_count": 26,
   "id": "guilty-speaker",
   "metadata": {},
   "outputs": [],
   "source": [
    "dl = Downloader()"
   ]
  },
  {
   "cell_type": "code",
   "execution_count": 30,
   "id": "appointed-preservation",
   "metadata": {},
   "outputs": [],
   "source": [
    "for company in company_cik_list:\n",
    "    dl.get(\"10-K\", company, after=\"2010-01-01\", before=\"2020-12-31\")"
   ]
  },
  {
   "cell_type": "code",
   "execution_count": null,
   "id": "charitable-dollar",
   "metadata": {},
   "outputs": [],
   "source": []
  }
 ],
 "metadata": {
  "kernelspec": {
   "display_name": "Python 3",
   "language": "python",
   "name": "python3"
  },
  "language_info": {
   "codemirror_mode": {
    "name": "ipython",
    "version": 3
   },
   "file_extension": ".py",
   "mimetype": "text/x-python",
   "name": "python",
   "nbconvert_exporter": "python",
   "pygments_lexer": "ipython3",
   "version": "3.7.9"
  }
 },
 "nbformat": 4,
 "nbformat_minor": 5
}
